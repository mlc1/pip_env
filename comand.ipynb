{
 "cells": [
  {
   "cell_type": "markdown",
   "metadata": {},
   "source": [
    "apt update  \n",
    "sudo apt update  \n",
    "sudo apt -y  upgrade  \n",
    "Instalación de gestor de paquetes de dependencias\n",
    "sudo apt insstall -y python3-pip "
   ]
  },
  {
   "cell_type": "code",
   "execution_count": null,
   "metadata": {},
   "outputs": [],
   "source": []
  },
  {
   "cell_type": "code",
   "execution_count": null,
   "metadata": {},
   "outputs": [],
   "source": []
  }
 ],
 "metadata": {
  "language_info": {
   "name": "python"
  },
  "orig_nbformat": 4
 },
 "nbformat": 4,
 "nbformat_minor": 2
}
